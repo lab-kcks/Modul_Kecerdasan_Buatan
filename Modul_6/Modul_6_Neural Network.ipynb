{
 "cells": [
  {
   "cell_type": "markdown",
   "metadata": {},
   "source": [
    "# Neural Network\n",
    "- Pengantar Neural Networks\n",
    "- Pengertian Hidden Layer\n",
    "- Pengertian Neuron\n",
    "- Pengertian Learning Rate\n",
    "- Fungsi Aktivasi\n",
    "- Forward & Backpropagation\n"
   ]
  },
  {
   "cell_type": "markdown",
   "metadata": {},
   "source": []
  }
 ],
 "metadata": {
  "language_info": {
   "name": "python"
  }
 },
 "nbformat": 4,
 "nbformat_minor": 2
}
