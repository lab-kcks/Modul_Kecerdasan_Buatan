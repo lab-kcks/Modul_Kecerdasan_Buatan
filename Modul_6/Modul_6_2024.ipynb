{
 "cells": [
  {
   "cell_type": "markdown",
   "metadata": {},
   "source": [
    "# Deep Learning - Convolutional Neural Network\n",
    "\n",
    "## Apa itu Deep Learning?\n",
    "Deep learning adalah metode dalam kecerdasan buatan (AI) yang mengajarkan komputer untuk memproses data dengan cara yang terinspirasi otak manusia. Model deep learning dapat mengenali pola kompleks dalam gambar, teks, suara, dan data lain untuk menghasilkan wawasan dan prediksi yang akurat. \n",
    "\n",
    "Deep learning sendiri banyak digunakan untuk:\n",
    "- Autonomus car menggunakan model deep learning untuk secara otomatis mendeteksi rambu lalu lintas dan pejalan kaki.\n",
    "- Sistem pertahanan menggunakan deep learning untuk secara otomatis menandai lingkup area pada citra satelit.\n",
    "- Analisis citra medis menggunakan deep learning untuk secara otomatis mendeteksi sel kanker untuk diagnosis medis.\n",
    "\n",
    "## Apa itu Computer Vision?\n",
    "![WhatsApp Image 2024-06-05 at 12 27 52 AM](https://github.com/tarishaicha/gambar/assets/107459188/8aa82bb0-a475-4fe9-8d3f-81a2879d7bbe)\n",
    "\n",
    "Computer vision adalah suatu kemampuan komputer untuk mengembangkan model yang dapat mengenali objek, wajah, gerakan, dan lain-lain dari gambar dan video. \n",
    "\n",
    "Beberapa contoh implementasi computer vision:\n",
    "- Content moderation untuk otomatisasi menghapus konten yang tidak senonoh/kurang aman dari foto/video yang telah disimpan. \n",
    "- Face recognition untuk mengidentifikasi wajah dan atributnya seperti, kacamata, gaya rambut, dan lainnya. \n",
    "- Image classification untuk mengidentifikasi macam hewan, sampah  facial expression,dan lainnya. \n",
    "\n",
    "Nah, untuk modul saat ini kita akan fokus pada penggunaan deep learning untuk image classification!\n",
    "\n",
    "## Convolutional Neural Networks (CNN)\n",
    "![image](https://github.com/tarishaicha/gambar/assets/107459188/e6ed7c8c-1f5c-45db-a7dd-35d5e7cfe6f2)\n",
    "\n",
    "Convolutional Neural Network (CNN), atau juga dikenal sebagai ConvNet, adalah jenis algoritma deep learning khusus yang dirancang terutama untuk tugas-tugas yang memerlukan pengenalan objek, termasuk klasifikasi gambar, deteksi, dan segmentasi. Implementasi dari CNN sendiri ada berbagai macam, seperti autonomus car, security camera systems, dan lainnya. \n",
    "\n",
    "Ada beberapa alasan mengapa CNN penting di dunia modern, seperti yang di bawah ini:\n",
    "- CNN berbeda dari algoritma machine learning seperti SVM dan random forest berdasarkan kemampuannya mengekstrak fitur secara mandiri dalam skala besar, sehingga mengabaikan kebutuhan feature engineering secara manual sehingga dapat meningkatkan efisiensi.\n",
    "- Berbagai pre-trained CNN model, termasuk VGG-16, ResNet50, Inceptionv3, dan EfficientNet, yang memiliki performa bagus. Model-model ini dapat disesuaikan dengan tugas-tugas baru dengan data yang relatif sedikit melalui proses yang disebut fine-tuning.\n",
    "- Selain klasifikasi gambar, CNN juga serbaguna dan dapat diterapkan ke berbagai bidang lain, seperti natural language processing, time series analysis, dan speech recognition.\n",
    "\n",
    "### Architecture of a Vanilla CNN\n",
    "![image](https://github.com/tarishaicha/gambar/assets/107459188/17bcef57-99c6-4b48-ae21-77fb809e0f71)\n",
    "\n",
    "Vanilla arsitektur CNN yaitu arsitektur basic dari Convolutional Neural Network tanpa modifikasi atau penambahan layer kompleks lainnya.\n",
    "\n",
    "Terdapat 2 komponen utama dari arsitektur CNN:\n",
    "1. Feature Extraction\n",
    "- Convolution Layers: Pada tahap ini, convolution layer memisahkan dan mengidentifikasi berbagai fitur dari gambar untuk dianalisis. \n",
    "- Jaringan Ekstraksi Fitur:  Terdiri dari banyak pasangan convolution layer dan pooling layer. Convolution layer  menerapkan filter untuk mengekstraksi fitur dari gambar, sedangkan pooling layer mengurangi dimensi fitur yang diekstraksi untuk menyederhanakan data dan mengurangi beban model.\n",
    "2. Classification\n",
    "- Fully Connected Layers: Menggunakan output dari proses convolution layer dan memprediksi kelas gambar berdasarkan fitur-fitur yang telah diekstraksi pada tahap sebelumnya. Lapisan ini menghubungkan semua neuron dari lapisan sebelumnya dengan neuron pada lapisan ini untuk melakukan klasifikasi akhir.\n",
    "\n",
    "\n",
    "\n",
    "\n",
    "\n"
   ]
  }
 ],
 "metadata": {
  "kernelspec": {
   "display_name": "Python 3 (ipykernel)",
   "language": "python",
   "name": "python3"
  },
  "language_info": {
   "codemirror_mode": {
    "name": "ipython",
    "version": 3
   },
   "file_extension": ".py",
   "mimetype": "text/x-python",
   "name": "python",
   "nbconvert_exporter": "python",
   "pygments_lexer": "ipython3",
   "version": "3.11.4"
  }
 },
 "nbformat": 4,
 "nbformat_minor": 2
}
