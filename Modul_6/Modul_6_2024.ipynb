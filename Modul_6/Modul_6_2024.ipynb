{
 "cells": [
  {
   "cell_type": "markdown",
   "metadata": {},
   "source": [
    "# Deep Learning - Convolutional Neural Network\n",
    "\n",
    "## Apa itu Deep Learning?\n",
    "Deep learning adalah metode dalam kecerdasan buatan (AI) yang mengajarkan komputer untuk memproses data dengan cara yang terinspirasi otak manusia. Model deep learning dapat mengenali pola kompleks dalam gambar, teks, suara, dan data lain untuk menghasilkan wawasan dan prediksi yang akurat. \n",
    "\n",
    "Deep learning sendiri banyak digunakan untuk:\n",
    "- Autonomus car menggunakan model deep learning untuk secara otomatis mendeteksi rambu lalu lintas dan pejalan kaki.\n",
    "- Sistem pertahanan menggunakan deep learning untuk secara otomatis menandai lingkup area pada citra satelit.\n",
    "- Analisis citra medis menggunakan deep learning untuk secara otomatis mendeteksi sel kanker untuk diagnosis medis.\n",
    "\n",
    "## Apa itu Computer Vision?\n",
    "![WhatsApp Image 2024-06-05 at 12 27 52 AM](https://github.com/tarishaicha/gambar/assets/107459188/8aa82bb0-a475-4fe9-8d3f-81a2879d7bbe)\n",
    "\n",
    "Computer vision adalah suatu kemampuan komputer untuk mengembangkan model yang dapat mengenali objek, wajah, gerakan, dan lain-lain dari gambar dan video. \n",
    "\n",
    "Beberapa contoh implementasi computer vision:\n",
    "- Content moderation untuk otomatisasi menghapus konten yang tidak senonoh/kurang aman dari foto/video yang telah disimpan. \n",
    "- Face recognition untuk mengidentifikasi wajah dan atributnya seperti, kacamata, gaya rambut, dan lainnya. \n",
    "- Image classification untuk mengidentifikasi macam hewan, sampah  facial expression,dan lainnya. \n",
    "\n",
    "Nah, untuk modul saat ini kita akan fokus pada penggunaan deep learning untuk image classification!\n",
    "\n",
    "## Convolutional Neural Networks (CNN)\n",
    "![image](https://github.com/tarishaicha/gambar/assets/107459188/e6ed7c8c-1f5c-45db-a7dd-35d5e7cfe6f2)\n",
    "\n",
    "Convolutional Neural Network (CNN), atau juga dikenal sebagai ConvNet, adalah jenis algoritma deep learning khusus yang dirancang terutama untuk tugas-tugas yang memerlukan pengenalan objek, termasuk klasifikasi gambar, deteksi, dan segmentasi. Implementasi dari CNN sendiri ada berbagai macam, seperti autonomus car, security camera systems, dan lainnya. \n",
    "\n",
    "Ada beberapa alasan mengapa CNN penting di dunia modern, seperti yang di bawah ini:\n",
    "- CNN berbeda dari algoritma machine learning seperti SVM dan random forest berdasarkan kemampuannya mengekstrak fitur secara mandiri dalam skala besar, sehingga mengabaikan kebutuhan feature engineering secara manual sehingga dapat meningkatkan efisiensi.\n",
    "- Berbagai pre-trained CNN model, termasuk VGG-16, ResNet50, Inceptionv3, dan EfficientNet, yang memiliki performa bagus. Model-model ini dapat disesuaikan dengan tugas-tugas baru dengan data yang relatif sedikit melalui proses yang disebut fine-tuning.\n",
    "- Selain klasifikasi gambar, CNN juga serbaguna dan dapat diterapkan ke berbagai bidang lain, seperti natural language processing, time series analysis, dan speech recognition.\n",
    "\n",
    "### Architecture of a Vanilla CNN\n",
    "![image](https://github.com/tarishaicha/gambar/assets/107459188/17bcef57-99c6-4b48-ae21-77fb809e0f71)\n",
    "\n",
    "Vanilla arsitektur CNN yaitu arsitektur basic dari Convolutional Neural Network tanpa modifikasi atau penambahan layer kompleks lainnya.\n",
    "\n",
    "Terdapat 2 komponen utama dari arsitektur CNN:\n",
    "1. Feature Extraction\n",
    "- Convolution Layers: Pada tahap ini, convolution layer memisahkan dan mengidentifikasi berbagai fitur dari gambar untuk dianalisis. \n",
    "- Jaringan Ekstraksi Fitur:  Terdiri dari banyak pasangan convolution layer dan pooling layer. Convolution layer  menerapkan filter untuk mengekstraksi fitur dari gambar, sedangkan pooling layer mengurangi dimensi fitur yang diekstraksi untuk menyederhanakan data dan mengurangi beban model.\n",
    "2. Classification\n",
    "- Fully Connected Layers: Menggunakan output dari proses convolution layer dan memprediksi kelas gambar berdasarkan fitur-fitur yang telah diekstraksi pada tahap sebelumnya. Lapisan ini menghubungkan semua neuron dari lapisan sebelumnya dengan neuron pada lapisan ini untuk melakukan klasifikasi akhir.\n",
    "\n",
    "\n",
    "\n",
    "\n",
    "\n"
   ]
  },
  {
   "cell_type": "markdown",
   "metadata": {},
   "source": [
    "## Filter Pada CNN dan Fungsinya"
   ]
  },
  {
   "cell_type": "markdown",
   "metadata": {},
   "source": [
    "## Pooling Layer\n",
    "## Apa itu Pooling Layer?\n",
    "Pooling layer merupakan salah satu elemen penyusun CNN yang juga dikenal sebagai subsampling atau downsampling. Digunakan untuk mengurangi dimensi spasial secara bertahap dengan tetap mempertahankan informasi penting. Hal ini mampu mengontrol kompleksitas model, mengurangi overfitting, dan meningkatkan efisiensi komputasi dengan mengurangi jumlah parameter dan komputasi yang diperlukan pada lapisan berikutnya. Pooling layer berbeda dengan convolution layer di mana convolution layer mengekstrak fitur dari gambar sedangkan pooling layer berperan dalam penggabungan fitur.\n",
    "\n",
    "Proses pooling layer dapat dianalogikan dengan melihat foto kucing dari kejauhan. Saat melihat foto dari kejauhan, detail kecil seperti bulu kucing atau tekstur sofa tidak dapat terlihat. Namun, dengan hanya melihat bentuk umum kucing seperti bentuk mata, hidung, dan telinga. Informasi ini cukup untuk mengklasifikasikan kucing sebagai kucing Persia atau bukan.\n",
    "\n",
    "## Kenapa perlu Pooling Layer?\n",
    "- Pooling layer digunakan untuk mengurangi dimensi feature maps. Dengan demikian, ini mengurangi jumlah parameter yang perlu dipelajari dan jumlah komputasi yang dilakukan dalam jaringan.\n",
    "- Pooling layer merangkum fitur-fitur yang ada di wilayah feature maps yang dihasilkan oleh convolutional layer. Jadi, operasi lebih lanjut dilakukan pada fitur yang diringkas, bukan pada fitur yang diposisikan secara tepat yang dihasilkan oleh lapisan konvolusi. Hal ini membuat model lebih tahan terhadap variasi posisi fitur pada gambar masukan.\n",
    "\n",
    "## Jenis Pooling Layer\n",
    "Terdapat 2 jenis pooling layer yang umum digunakan yaitu : \n",
    "- Max Pooling\n",
    "- Average Pooling\n",
    "- Global Pooling\n",
    "- Stochastic Pooling\n",
    "\n",
    "Modul kali ini hanya akan membahas mengenai jenis pooling yang umum digunakan yaitu max pooling dan average pooling.\n"
   ]
  },
  {
   "cell_type": "markdown",
   "metadata": {},
   "source": [
    "## Fully Connected Layer\n",
    "Fully connected layer atau biasa lebih dikenal dengan sebutan dense layer adalah salah satu komponen utama dalam neural network yang menghubungkan setiap neuron di satu layer ke setiap neuron di layer berikutnya. Layer ini sangat penting dalam proses klasifikasi karena memungkinkan jaringan untuk belajar pola kompleks dalam data. Sebelum masuk ke fully connected layer, output dari pooling layer terakhir yang berbentuk multi-dimensi perlu \"diratakan\" (flatenned) terlebih dahulu agar menjadi vektor 1 dimensi seperti ilustrasi berikut:\n",
    "\n",
    "<div align=\"center\">\n",
    "    <img src=\".\\images\\flatten.png\" height=\"350\" alt=\"FC Layer\">\n",
    "</div>\n",
    "\n",
    "Output yang diratakan kemudian dapat diproses oleh fully connected layer, dan back propagation diterapkan pada setiap iterasi pelatihan untuk menghitung gradien kesalahan terhadap setiap bobot dalam jaringan. Gradien ini kemudian digunakan untuk memperbarui bobot guna meminimalkan kesalahan pada iterasi berikutnya. Selama serangkaian epoch, model dapat membedakan antara fitur dominan dan fitur tingkat rendah tertentu dalam gambar dan mengklasifikasikannya. Lapisan ini menetapkan weight secara acak pada input dan memprediksi label yang sesuai. \n",
    "\n",
    "Jumlah layer yang digunakan dapat bervariasi, tergantung pada seberapa dalam model akan mengklasifikasikan data. Hal ini tentunya juga bergantung pada seberapa banyak dataset training yang digunakan. Pada layer ini, fungsi aktivasi yang biasa digunakan adalah fungsi ReLU Dikarenakan modul ini berfokus pada computer vision, berikut merupakan ilustrasi yang lebih jelas:\n",
    "\n",
    "<div align=\"center\">\n",
    "    <img src=\".\\images\\fc-2.png\" height=\"350\" alt=\"FC Layer\">\n",
    "</div>\n",
    "\n",
    "Output dari lapisan fully connected terakhir dikirim ke lapisan final dengan fungsi aktivasi softmax atau sigmoid untuk menghasilkan output klasifikasi.\n",
    "\n",
    "#### Referensi:\n",
    "- [Convolution Neural Network – Better Understanding](https://www.analyticsvidhya.com/blog/2021/07/convolution-neural-network-better-understanding/)\n",
    "- [Fully Connected Layer vs. Convolutional Layer: Explained](https://builtin.com/machine-learning/fully-connected-layer)\n",
    "- [Fully Connected Layers in Convolutional Neural Networks](https://indiantechwarrior.com/fully-connected-layers-in-convolutional-neural-networks/)"
   ]
  },
  {
   "cell_type": "markdown",
   "metadata": {},
   "source": []
  }
 ],
 "metadata": {
  "kernelspec": {
   "display_name": "Python 3 (ipykernel)",
   "language": "python",
   "name": "python3"
  },
  "language_info": {
   "codemirror_mode": {
    "name": "ipython",
    "version": 3
   },
   "file_extension": ".py",
   "mimetype": "text/x-python",
   "name": "python",
   "nbconvert_exporter": "python",
   "pygments_lexer": "ipython3",
   "version": "3.11.4"
  }
 },
 "nbformat": 4,
 "nbformat_minor": 2
}
